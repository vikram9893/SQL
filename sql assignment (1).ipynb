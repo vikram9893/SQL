{
 "cells": [
  {
   "cell_type": "code",
   "execution_count": null,
   "id": "5bd5ccf4-d5fd-4512-8ab5-5d545932d9a8",
   "metadata": {},
   "outputs": [],
   "source": [
    "Ans 1 A database is an organized collection of structured information, or data, typically stored electronically in a computer system.\n",
    "      SQL databases are table-based, while NoSQL databases are document, key-value, graph, or wide-column stores. \n",
    "    SQL databases are better for multi-row transactions, while NoSQL is better for unstructured data like documents or JSON"
   ]
  },
  {
   "cell_type": "code",
   "execution_count": null,
   "id": "d7300453-0fef-4e30-8000-c7fbd5fde548",
   "metadata": {},
   "outputs": [],
   "source": [
    "Ans 2 Data Definition Language(DDL) is a subset of SQL and a part of DBMS(Database Management System).\n",
    "DDL consist of Commands to commands like CREATE, ALTER, TRUNCATE and DROP.\n",
    "These commands are used to create or modify the tables in SQL.\n",
    "\n",
    "CREATE :\n",
    "This command is used to create a new table in SQL. The user has to give information like table name, column names, and their datatypes.\n",
    "ALTER :\n",
    "This command is used to add, delete or change columns in the existing table.\n",
    "The user needs to know the existing table name and can do add, delete or modify tasks easily.\n",
    "TRUNCATE :\n",
    "This command is used to remove all rows from the table, but the structure of the table still exists.\n",
    "DROP :\n",
    "This command is used to remove an existing table along with its structure from the Database."
   ]
  },
  {
   "cell_type": "code",
   "execution_count": null,
   "id": "d3a1c7dd-a837-4a2a-9032-7c8dd0cc660e",
   "metadata": {},
   "outputs": [],
   "source": [
    "Ans 3 The structured query language (SQL) commands deal with the manipulation of data present in the database that belongs to the DML or Data Manipulation Language. \n",
    "This includes most of the SQL statements.\n",
    "Insert:\n",
    "Insert into <table_name> (column list) values (column values);\n",
    "Delete:\n",
    "Delete from <table_name>WHERE condition;\n",
    "Update:    \n",
    "UPDATE <table_name> SET column_number =value_number WHERE condition;    \n",
    "\n"
   ]
  },
  {
   "cell_type": "code",
   "execution_count": null,
   "id": "2eb0f9f6-bf5b-497f-b6bf-55897f0f1aa6",
   "metadata": {},
   "outputs": [],
   "source": [
    "Ans 4 DQL statements are used for performing queries on the data within schema objects.\n",
    "The purpose of DQL commands is to get the schema relation based on the query passed to it.\n",
    "\n",
    "The SELECT statement is used to select data from a database.\n",
    "SELECT * FROM table_name;"
   ]
  },
  {
   "cell_type": "code",
   "execution_count": null,
   "id": "b2a8149c-9cb4-411f-8715-42e114860f29",
   "metadata": {},
   "outputs": [],
   "source": [
    "Ans 5 A primary key generally focuses on the uniqueness of the table. \n",
    "It assures the value in the specific column is unique. \n",
    "A foreign key is generally used to build a relationship between the two tables. \n",
    "The table allows only one primary key."
   ]
  },
  {
   "cell_type": "code",
   "execution_count": null,
   "id": "ade1c70b-1a7a-4906-8748-7326c501f47a",
   "metadata": {},
   "outputs": [],
   "source": [
    "Ans 6 \n",
    "import mysql.connector\n",
    "\n",
    "mydb = mysql.connector.connect(\n",
    "  host=\"localhost\",\n",
    "  user=\"abc\",\n",
    "  password=\"password\"\n",
    ")\n",
    "\n",
    "mycursor = mydb.cursor()\n",
    "\n",
    "\n",
    "\n",
    "A cursor is an object which helps to execute the query and fetch the records from the database. \n",
    "The cursor plays a very important role in executing the query.\n",
    "\n",
    "execute()\n",
    "This method accepts a MySQL query as a parameter and executes the given query."
   ]
  },
  {
   "cell_type": "code",
   "execution_count": null,
   "id": "4df8fdb2-c19c-4be5-89e6-419c0235e877",
   "metadata": {},
   "outputs": [],
   "source": [
    "Ans 7 The order in which the clauses in queries are executed is as follows:\n",
    "\n",
    "1. FROM/JOIN: The FROM and/or JOIN clauses are executed first to determine the data of interest.\n",
    "\n",
    "2. WHERE: The WHERE clause is executed to filter out records that do not meet the constraints.\n",
    "\n",
    "3. GROUP BY: The GROUP BY clause is executed to group the data based on the values in one or more columns.\n",
    "\n",
    "4. HAVING: The HAVING clause is executed to remove the created grouped records that don’t meet the constraints.\n",
    "\n",
    "5. SELECT: The SELECT clause is executed to derive all desired columns and expressions.\n",
    "\n",
    "6. ORDER BY: The ORDER BY clause is executed to sort the derived values in ascending or descending order.\n",
    "\n",
    "7. LIMIT/OFFSET: Finally, the LIMIT and/or OFFSET clauses are executed to keep or skip a specified number of rows.\n",
    "\n"
   ]
  }
 ],
 "metadata": {
  "kernelspec": {
   "display_name": "Python 3 (ipykernel)",
   "language": "python",
   "name": "python3"
  },
  "language_info": {
   "codemirror_mode": {
    "name": "ipython",
    "version": 3
   },
   "file_extension": ".py",
   "mimetype": "text/x-python",
   "name": "python",
   "nbconvert_exporter": "python",
   "pygments_lexer": "ipython3",
   "version": "3.10.8"
  }
 },
 "nbformat": 4,
 "nbformat_minor": 5
}
